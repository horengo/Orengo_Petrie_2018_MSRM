{
  "nbformat": 4,
  "nbformat_minor": 0,
  "metadata": {
    "colab": {
      "provenance": [],
      "mount_file_id": "1tVqu9oqjpP3_R-OM2vuAuIiGsBM_wuCi",
      "authorship_tag": "ABX9TyP3plKlmWSXnaaLGR+PfZCx"
    },
    "kernelspec": {
      "name": "python3",
      "display_name": "Python 3"
    },
    "language_info": {
      "name": "python"
    }
  },
  "cells": [
    {
      "cell_type": "code",
      "execution_count": null,
      "metadata": {
        "colab": {
          "base_uri": "https://localhost:8080/"
        },
        "id": "SXBxDPxfhvTF",
        "outputId": "0e6d15f2-054b-45e6-8585-05f60ccc2cca"
      },
      "outputs": [
        {
          "name": "stdout",
          "output_type": "stream",
          "text": [
            "Drive already mounted at /content/drive; to attempt to forcibly remount, call drive.mount(\"/content/drive\", force_remount=True).\n",
            "What is maximum size of the feature you want to detect in meters? 39\n",
            "What is minimum size of the feature you want to detect in meters? 2\n",
            "Which scaling factor do you want to use? 2\n"
          ]
        }
      ],
      "source": [
        "\"\"\"\n",
        "\n",
        "Multi-Scale Relief Model (MSRM) Python code developed by H.A. Orengo\n",
        "to accompany the paper:\n",
        "\n",
        "Orengo, H.A. and Petrie, C.A. 2018. 'Multi-Scale Relief Model (MSRM): a new algorithm\n",
        "for the analysis of subtle topographic change in digital elevation models'\n",
        "published in Earth Surface Processes and Landforms, 43(6): 1361-1369.\n",
        "\n",
        "Please, refer to the paper for details on the method and how to best use it\n",
        "\n",
        "\"\"\"\n",
        "\n",
        "import numpy as np\n",
        "from osgeo import gdal\n",
        "from scipy.ndimage import convolve\n",
        "from scipy.ndimage import uniform_filter\n",
        "from google.colab import drive\n",
        "\n",
        "# This will mount your Google Drive, it will prompt you for authorization.\n",
        "# If you do not plan to use your Google Drive, just delete the followng line\n",
        "drive.mount('/content/drive')\n",
        "\n",
        "# Add the directory or address with your DSM in your Google Drive here\n",
        "# The use of Google Drive is optional here you can use your local drive instead\n",
        "# just provide the address\n",
        "dsm_file = '/content/drive/MyDrive/proof.tif'\n",
        "\n",
        "# Read the DSM raster file\n",
        "dsm_dataset = gdal.Open(dsm_file)\n",
        "dsm_band = dsm_dataset.GetRasterBand(1)\n",
        "dsm_array = dsm_band.ReadAsArray()\n",
        "\n",
        "# Prompt user for maximum and minimum feature size and scaling factor\n",
        "fmax = int(input('What is maximum size of the feature you want to detect in meters? '))\n",
        "fmin_prompt = int(input('What is minimum size of the feature you want to detect in meters? '))\n",
        "x = int(input('Which scaling factor do you want to use? '))\n",
        "\n",
        "# Calculate the raster resolution (rr) - assuming equal x and y resolution\n",
        "gt = dsm_dataset.GetGeoTransform()\n",
        "rr = round((gt[1])*1000) / 1000  # gt[1] is pixel width, gt[5] is pixel height (both in \"map\" units)\n",
        "\n",
        "# Check for minimum feature size\n",
        "fmin = rr if fmin_prompt <= rr else fmin_prompt\n",
        "\n",
        "# Calculation of 'i' and 'n' values\n",
        "i = int(((fmin-rr)/(2*rr))** (1/x))\n",
        "n = int(((fmax-rr)/(2*rr))** (1/x))\n",
        "\n",
        "# Create a list to store the filtered DSM arrays\n",
        "filtered_arrays = []\n",
        "\n",
        "# Apply a uniform_filter to the DSM for each value of ndx from i to n\n",
        "for ndx in range(i, n + 1):\n",
        "    size = ndx**x\n",
        "    filtered_dsm = uniform_filter(dsm_array, size=size)\n",
        "    filtered_arrays.append(filtered_dsm)\n",
        "\n",
        "# Subtract consecutive filtered DSM arrays and store the results\n",
        "difference_arrays = [np.subtract(filtered_arrays[i], filtered_arrays[i+1]) for i in range(len(filtered_arrays) - 1)]\n",
        "\n",
        "# Calculate the average of all difference arrays\n",
        "average_difference = np.mean(difference_arrays, axis=0)\n",
        "\n",
        "# Round to three decimal places\n",
        "average_difference_rounded = np.round(average_difference, 3)\n",
        "\n",
        "# Save the result as a new GeoTIFF file in Google Drive\n",
        "driver = gdal.GetDriverByName('GTiff')\n",
        "output_path = '/content/drive/MyDrive/MSRM.tif' # Provide a local address if you prefer not to use your Google Drive\n",
        "out_dataset = driver.Create(output_path, dsm_dataset.RasterXSize, dsm_dataset.RasterYSize, 1, gdal.GDT_Float32)\n",
        "out_dataset.SetGeoTransform(dsm_dataset.GetGeoTransform())\n",
        "out_dataset.SetProjection(dsm_dataset.GetProjection())\n",
        "out_band = out_dataset.GetRasterBand(1)\n",
        "out_band.WriteArray(average_difference_rounded)\n",
        "out_dataset = None  # Close the file"
      ]
    }
  ]
}